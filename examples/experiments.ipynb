{
 "cells": [],
 "metadata": {
  "kernelspec": {
   "display_name": "thesis",
   "language": "python",
   "name": "python3"
  },
  "language_info": {
   "codemirror_mode": {
    "name": "ipython",
    "version": 3
   },
   "file_extension": ".py",
   "mimetype": "text/x-python",
   "name": "python",
   "nbconvert_exporter": "python",
   "pygments_lexer": "ipython3",
   "version": "3.8.8"
  },
  "vscode": {
   "interpreter": {
    "hash": "fd9b04b2ec99a010291cf3f4ede4cc857028cc797be4a9971bbcd14f8a95e0c3"
   }
  }
 },
 "nbformat": 4,
 "nbformat_minor": 2
}
