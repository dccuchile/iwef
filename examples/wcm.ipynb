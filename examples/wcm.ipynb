{
 "cells": [
  {
   "cell_type": "code",
   "execution_count": null,
   "metadata": {},
   "outputs": [],
   "source": []
  }
 ],
 "metadata": {
  "kernelspec": {
   "display_name": "thesis",
   "language": "python",
   "name": "python3"
  },
  "language_info": {
   "name": "python",
   "version": "3.8.8 (default, Apr 13 2021, 19:58:26) \n[GCC 7.3.0]"
  },
  "vscode": {
   "interpreter": {
    "hash": "fd9b04b2ec99a010291cf3f4ede4cc857028cc797be4a9971bbcd14f8a95e0c3"
   }
  }
 },
 "nbformat": 4,
 "nbformat_minor": 2
}
