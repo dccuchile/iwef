{
 "cells": [
  {
   "cell_type": "markdown",
   "metadata": {},
   "source": [
    "# TweetStream and Dataloader"
   ]
  },
  {
   "cell_type": "markdown",
   "metadata": {},
   "source": [
    "## Stream of Tweets\n",
    "\n",
    "\n",
    "Our tutorial uses a dataset of unlabeled tweets to simulate a text stream of tweets. Twitter provides an excellent source of \n",
    "text streams, given its widespread use and real-time updates from its users. We draw a set of ten million tweets in English from the Edinburgh corpus. This dataset is a collection of tweets from different languages for academic purposes and was downloaded from November 2009 to February 2010 using the Twitter API. The dataset consists of 1,000,000 tweets in a text file, with each tweet occupying one line and separated by a line break.\n",
    "\n",
    "The file can be downloaded from [here](https://drive.google.com/file/d/1Fay5WRNKjIpa0wCtzGJBaR_W5_lMhaDJ/view?usp=sharing)."
   ]
  },
  {
   "cell_type": "markdown",
   "metadata": {},
   "source": [
    "## TweetStream Class\n",
    "\n",
    "To efficiently load and read larger text files that may not fit into memory, we used the [```IterableDataset```](https://pytorch.org/docs/stable/data.html) class of the Pytorch API, which is an extension of the IterableDataset class. We then utilized the [data loader](https://pytorch.org/tutorials/beginner/basics/data_tutorial.html) provided by Pytorch to load the iterable dataset. This allowed us to efficiently access the data without having to store large amounts of it in memory."
   ]
  },
  {
   "cell_type": "markdown",
   "metadata": {},
   "source": [
    "### import libraries"
   ]
  },
  {
   "cell_type": "code",
   "execution_count": null,
   "metadata": {},
   "outputs": [],
   "source": [
    "\n",
    "from rivertext.utils import TweetStream\n",
    "from torch.utils.data import DataLoader"
   ]
  },
  {
   "cell_type": "markdown",
   "metadata": {},
   "source": [
    "### Load the Text Stream"
   ]
  },
  {
   "cell_type": "code",
   "execution_count": null,
   "metadata": {},
   "outputs": [],
   "source": [
    "ts = TweetStream(\"tweets.txt\")\n",
    "dataloader = DataLoader(ts, batch_size=1)"
   ]
  },
  {
   "cell_type": "code",
   "execution_count": null,
   "metadata": {},
   "outputs": [],
   "source": [
    "for tweet in dataloader:\n",
    "    print(tweet)"
   ]
  }
 ],
 "metadata": {
  "kernelspec": {
   "display_name": "Python 3",
   "language": "python",
   "name": "python3"
  },
  "language_info": {
   "codemirror_mode": {
    "name": "ipython",
    "version": 3
   },
   "file_extension": ".py",
   "mimetype": "text/x-python",
   "name": "python",
   "nbconvert_exporter": "python",
   "pygments_lexer": "ipython3",
   "version": "3.8.8"
  },
  "vscode": {
   "interpreter": {
    "hash": "fd9b04b2ec99a010291cf3f4ede4cc857028cc797be4a9971bbcd14f8a95e0c3"
   }
  }
 },
 "nbformat": 4,
 "nbformat_minor": 2
}
