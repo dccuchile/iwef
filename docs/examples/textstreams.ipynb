{
 "cells": [
  {
   "cell_type": "markdown",
   "metadata": {},
   "source": [
    "# TweetStream and Dataloader"
   ]
  },
  {
   "cell_type": "markdown",
   "metadata": {},
   "source": [
    "## Stream of Tweets\n",
    "\n",
    "\n",
    "Our tutorial uses a dataset of unlabeled tweets to simulate a text stream of tweets. Twitter provides an excellent source of \n",
    "text streams, given its widespread use and real-time updates from its users. We draw a set of ten million tweets in English from the Edinburgh corpus. This dataset is a collection of tweets from different languages for academic purposes and was downloaded from November 2009 to February 2010 using the Twitter API. The dataset consists of 1,000,000 tweets in a text file, with each tweet occupying one line and separated by a line break.\n",
    "\n",
    "The file can be downloaded from [here](https://drive.google.com/file/d/1Fay5WRNKjIpa0wCtzGJBaR_W5_lMhaDJ/view?usp=sharing)."
   ]
  },
  {
   "cell_type": "markdown",
   "metadata": {},
   "source": [
    "## TweetStream Class\n",
    "\n",
    "To efficiently load and read larger text files that may not fit into memory, we used the [```IterableDataset```](https://pytorch.org/docs/stable/data.html) class of the Pytorch API, which is an extension of the IterableDataset class. We then utilized the [data loader](https://pytorch.org/tutorials/beginner/basics/data_tutorial.html) provided by Pytorch to load the iterable dataset. This allowed us to efficiently access the data without having to store large amounts of it in memory."
   ]
  },
  {
   "cell_type": "markdown",
   "metadata": {},
   "source": [
    "### import libraries"
   ]
  },
  {
   "cell_type": "code",
   "execution_count": 1,
   "metadata": {},
   "outputs": [],
   "source": [
    "\n",
    "from rivertext.utils import TweetStream\n",
    "from torch.utils.data import DataLoader"
   ]
  },
  {
   "cell_type": "markdown",
   "metadata": {},
   "source": [
    "### Load the Text Stream"
   ]
  },
  {
   "cell_type": "code",
   "execution_count": 2,
   "metadata": {},
   "outputs": [],
   "source": [
    "ts = TweetStream(\"tweets.txt\")\n",
    "dataloader = DataLoader(ts, batch_size=1)"
   ]
  },
  {
   "cell_type": "code",
   "execution_count": 3,
   "metadata": {},
   "outputs": [
    {
     "name": "stdout",
     "output_type": "stream",
     "text": [
      "['Gluetext is a fresh site aggregating all the news about whatever you want to one place']\n",
      "['I WANT CHOCOLATE p']\n",
      "['The WHITE zone is for loading and unloading ONLY If you need to load or unload go to the WHITE zone you ll LOVE it']\n",
      "['10 Steps to make the best Italian coffee in Paris']\n",
      "['why what happened boo hoo']\n",
      "['I m really looking forward to a catch up coffee with and her cool little man']\n",
      "['Morning world Guess it s time to get work started Gaan ons']\n",
      "['The Stranger in My House']\n",
      "['Photo Uberbyte I wanna grow up to look like one of these fuckers']\n",
      "['yo I got some white rhino in my desk right now that shit is dank']\n",
      "['Wishing I could sleep Big truck day in the morning']\n",
      "['Space Invaders Autopsy T Shirt Space Invaders Gizmodo']\n",
      "['I posted 16 photos on Facebook in the album AFTERNOON TEA']\n",
      "['AT 6 54pm 35 6°C Humidity 16 Wind S 13km h Pressure 1015 9hPa SO FAR Min 22 9°C Max 38 9°C Rain nil F CAST']\n",
      "['www parttimepoker com wsop 3m more for Moon']\n",
      "['Artists Without Mortarboards Should Museum Studies Go Guerrilla']\n",
      "['Going 2 sleep tweets Somebody pls smack tha shit outta Sammy Sosa 4 doin that creepy unnecessary ass shit 2 himself b4 I wake Pls thx']\n",
      "['Our reader is charged to repair a rental car tire a tire she says she never damaged When her']\n",
      "['head teacher given more powers they try in Germany too']\n",
      "['NURSERY ADMISSIONS preeti anand commented on AS s blog post Which is better Manav Sthali or']\n",
      "['Someone s just get out from his car and start shouting angrily and take control of this traffic Cool']\n"
     ]
    }
   ],
   "source": [
    "for tweet in dataloader:\n",
    "    print(tweet)"
   ]
  }
 ],
 "metadata": {
  "kernelspec": {
   "display_name": "Python 3",
   "language": "python",
   "name": "python3"
  },
  "language_info": {
   "codemirror_mode": {
    "name": "ipython",
    "version": 3
   },
   "file_extension": ".py",
   "mimetype": "text/x-python",
   "name": "python",
   "nbconvert_exporter": "python",
   "pygments_lexer": "ipython3",
   "version": "3.8.8"
  },
  "vscode": {
   "interpreter": {
    "hash": "fd9b04b2ec99a010291cf3f4ede4cc857028cc797be4a9971bbcd14f8a95e0c3"
   }
  }
 },
 "nbformat": 4,
 "nbformat_minor": 2
}
