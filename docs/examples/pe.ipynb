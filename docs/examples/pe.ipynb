{
 "cells": [
  {
   "cell_type": "code",
   "execution_count": null,
   "id": "eb82f866",
   "metadata": {},
   "outputs": [],
   "source": [
    "from rivertext.utils import TweetStream\n",
    "from torch.utils.data import DataLoader\n",
    "\n",
    "from rivertext.models import IWord2Vec\n",
    "\n",
    "from rivertext.evaluator import PeriodicEvaluator\n",
    "\n",
    "from web.datasets.similarity import fetch_MEN\n",
    "from web.evaluate import evaluate_similarity"
   ]
  },
  {
   "cell_type": "code",
   "execution_count": null,
   "id": "d9eb7416",
   "metadata": {},
   "outputs": [],
   "source": [
    "ts = TweetStream(\"tweets.txt\")\n",
    "dataloader = DataLoader(ts, batch_size=32)"
   ]
  },
  {
   "cell_type": "code",
   "execution_count": null,
   "id": "2fcd49e1",
   "metadata": {},
   "outputs": [],
   "source": [
    "icbow = IWord2Vec(\n",
    "    vocab_size=1_000_000, \n",
    "    unigram_table_size=100_000_000,\n",
    "    window_size=3,\n",
    "    neg_samples_sum=3,\n",
    "    emb_size=100, \n",
    "    device=\"cuda:1\"\n",
    ")"
   ]
  },
  {
   "cell_type": "code",
   "execution_count": null,
   "id": "b80ee4c0",
   "metadata": {},
   "outputs": [],
   "source": [
    "pe = PeriodicEvaluator(\n",
    "    ts,\n",
    "    icbow,\n",
    "    golden_dataset=fetch_MEN,\n",
    "    eval_func=evaluate_similarity\n",
    ")"
   ]
  },
  {
   "cell_type": "code",
   "execution_count": null,
   "id": "0c88a87d",
   "metadata": {},
   "outputs": [],
   "source": [
    "pe.run(p=32_000)"
   ]
  }
 ],
 "metadata": {
  "kernelspec": {
   "display_name": "Python 3",
   "language": "python",
   "name": "python3"
  },
  "language_info": {
   "codemirror_mode": {
    "name": "ipython",
    "version": 3
   },
   "file_extension": ".py",
   "mimetype": "text/x-python",
   "name": "python",
   "nbconvert_exporter": "python",
   "pygments_lexer": "ipython3",
   "version": "3.8.8"
  }
 },
 "nbformat": 4,
 "nbformat_minor": 5
}
